{
  "nbformat": 4,
  "nbformat_minor": 0,
  "metadata": {
    "colab": {
      "provenance": [],
      "authorship_tag": "ABX9TyMeqxBzXYCMxz2xyfeWmqIJ",
      "include_colab_link": true
    },
    "kernelspec": {
      "name": "python3",
      "display_name": "Python 3"
    },
    "language_info": {
      "name": "python"
    }
  },
  "cells": [
    {
      "cell_type": "markdown",
      "metadata": {
        "id": "view-in-github",
        "colab_type": "text"
      },
      "source": [
        "<a href=\"https://colab.research.google.com/github/vir-dom/deep_learning_hw3/blob/main/deep_learning_hw3.ipynb\" target=\"_parent\"><img src=\"https://colab.research.google.com/assets/colab-badge.svg\" alt=\"Open In Colab\"/></a>"
      ]
    },
    {
      "cell_type": "markdown",
      "source": [
        "## Deep Learning homework 3"
      ],
      "metadata": {
        "id": "Xtm1dohE7Vyl"
      }
    },
    {
      "cell_type": "markdown",
      "source": [
        "This is the third homework for the \"Deep Learning a gyakorlatban...\" course. My name is Virsinger Dominika (RSABSD). In this notebook I am trying to explain everything regarding my codes, it is going to be in these Text boxes."
      ],
      "metadata": {
        "id": "KPwhkGnf7lqx"
      }
    },
    {
      "cell_type": "markdown",
      "source": [
        "For this exercise, I used the last 3 years' data (2019.11.01.-2022.11.14.) from http://idojarasbudapest.hu/archivalt-idojaras\n",
        "<p> I collected the mentioned data into an Excel file (traindata.xlsx) which can be found attached. (To do this I used https://www.convertcsv.com/newsite/html-table-to-csv.htm)"
      ],
      "metadata": {
        "id": "BBnCjMKh7ucN"
      }
    },
    {
      "cell_type": "code",
      "source": [
        "import pandas as pd\n",
        "import numpy as np\n",
        "from sklearn.model_selection import train_test_split\n",
        "from tensorflow.keras.models import Sequential\n",
        "from tensorflow.keras.layers import Dense\n",
        "import tensorflow as tf\n",
        "from tensorflow.keras.callbacks import EarlyStopping\n",
        "from tensorflow.keras.callbacks import ModelCheckpoint\n",
        "from sklearn.metrics import mean_squared_error\n",
        "import datetime\n",
        "from datetime import timedelta\n",
        "from datetime import date\n",
        "import calendar\n",
        "random_state = 23"
      ],
      "metadata": {
        "id": "KRpcRioM90Ft"
      },
      "execution_count": null,
      "outputs": []
    },
    {
      "cell_type": "markdown",
      "source": [
        "**Data preparation**"
      ],
      "metadata": {
        "id": "uEuVlCiMOgg7"
      }
    },
    {
      "cell_type": "code",
      "execution_count": null,
      "metadata": {
        "colab": {
          "base_uri": "https://localhost:8080/",
          "height": 424
        },
        "id": "hc48brS6Ny6v",
        "outputId": "397a2aff-eafe-47a9-eec2-3c2b97428e5c"
      },
      "outputs": [
        {
          "output_type": "execute_result",
          "data": {
            "text/plain": [
              "                        Nap  Tmax\\n [°C]  Tmin\\n [°C]  Szél\\n \\t[m/s]  \\\n",
              "0        2019.11.01\\npéntek          9.7          5.3             3.5   \n",
              "1       2019.11.02\\nszombat         11.1          6.3             4.8   \n",
              "2      2019.11.03\\nvasárnap         16.4          9.8             6.6   \n",
              "3         2019.11.04\\nhétfő         15.7          9.9             5.3   \n",
              "4          2019.11.05\\nkedd         16.3          9.2             6.6   \n",
              "...                     ...          ...          ...             ...   \n",
              "1105  2022.11.10\\ncsütörtök         14.2         10.5             4.1   \n",
              "1106     2022.11.11\\npéntek         13.5          9.3             1.9   \n",
              "1107    2022.11.12\\nszombat         13.9          9.4             1.6   \n",
              "1108   2022.11.13\\nvasárnap         13.1          8.3             1.8   \n",
              "1109      2022.11.14\\nhétfő         12.8          7.9             1.5   \n",
              "\n",
              "      Csapadék\\n \\t[mm]  \n",
              "0                   0.0  \n",
              "1                   0.0  \n",
              "2                   0.4  \n",
              "3                   9.6  \n",
              "4                  12.3  \n",
              "...                 ...  \n",
              "1105                0.0  \n",
              "1106                0.0  \n",
              "1107                0.0  \n",
              "1108                0.0  \n",
              "1109                0.0  \n",
              "\n",
              "[1110 rows x 5 columns]"
            ],
            "text/html": [
              "\n",
              "  <div id=\"df-6d63345f-aeed-4cf4-bda0-65cd862e89ea\">\n",
              "    <div class=\"colab-df-container\">\n",
              "      <div>\n",
              "<style scoped>\n",
              "    .dataframe tbody tr th:only-of-type {\n",
              "        vertical-align: middle;\n",
              "    }\n",
              "\n",
              "    .dataframe tbody tr th {\n",
              "        vertical-align: top;\n",
              "    }\n",
              "\n",
              "    .dataframe thead th {\n",
              "        text-align: right;\n",
              "    }\n",
              "</style>\n",
              "<table border=\"1\" class=\"dataframe\">\n",
              "  <thead>\n",
              "    <tr style=\"text-align: right;\">\n",
              "      <th></th>\n",
              "      <th>Nap</th>\n",
              "      <th>Tmax\\n [°C]</th>\n",
              "      <th>Tmin\\n [°C]</th>\n",
              "      <th>Szél\\n \\t[m/s]</th>\n",
              "      <th>Csapadék\\n \\t[mm]</th>\n",
              "    </tr>\n",
              "  </thead>\n",
              "  <tbody>\n",
              "    <tr>\n",
              "      <th>0</th>\n",
              "      <td>2019.11.01\\npéntek</td>\n",
              "      <td>9.7</td>\n",
              "      <td>5.3</td>\n",
              "      <td>3.5</td>\n",
              "      <td>0.0</td>\n",
              "    </tr>\n",
              "    <tr>\n",
              "      <th>1</th>\n",
              "      <td>2019.11.02\\nszombat</td>\n",
              "      <td>11.1</td>\n",
              "      <td>6.3</td>\n",
              "      <td>4.8</td>\n",
              "      <td>0.0</td>\n",
              "    </tr>\n",
              "    <tr>\n",
              "      <th>2</th>\n",
              "      <td>2019.11.03\\nvasárnap</td>\n",
              "      <td>16.4</td>\n",
              "      <td>9.8</td>\n",
              "      <td>6.6</td>\n",
              "      <td>0.4</td>\n",
              "    </tr>\n",
              "    <tr>\n",
              "      <th>3</th>\n",
              "      <td>2019.11.04\\nhétfő</td>\n",
              "      <td>15.7</td>\n",
              "      <td>9.9</td>\n",
              "      <td>5.3</td>\n",
              "      <td>9.6</td>\n",
              "    </tr>\n",
              "    <tr>\n",
              "      <th>4</th>\n",
              "      <td>2019.11.05\\nkedd</td>\n",
              "      <td>16.3</td>\n",
              "      <td>9.2</td>\n",
              "      <td>6.6</td>\n",
              "      <td>12.3</td>\n",
              "    </tr>\n",
              "    <tr>\n",
              "      <th>...</th>\n",
              "      <td>...</td>\n",
              "      <td>...</td>\n",
              "      <td>...</td>\n",
              "      <td>...</td>\n",
              "      <td>...</td>\n",
              "    </tr>\n",
              "    <tr>\n",
              "      <th>1105</th>\n",
              "      <td>2022.11.10\\ncsütörtök</td>\n",
              "      <td>14.2</td>\n",
              "      <td>10.5</td>\n",
              "      <td>4.1</td>\n",
              "      <td>0.0</td>\n",
              "    </tr>\n",
              "    <tr>\n",
              "      <th>1106</th>\n",
              "      <td>2022.11.11\\npéntek</td>\n",
              "      <td>13.5</td>\n",
              "      <td>9.3</td>\n",
              "      <td>1.9</td>\n",
              "      <td>0.0</td>\n",
              "    </tr>\n",
              "    <tr>\n",
              "      <th>1107</th>\n",
              "      <td>2022.11.12\\nszombat</td>\n",
              "      <td>13.9</td>\n",
              "      <td>9.4</td>\n",
              "      <td>1.6</td>\n",
              "      <td>0.0</td>\n",
              "    </tr>\n",
              "    <tr>\n",
              "      <th>1108</th>\n",
              "      <td>2022.11.13\\nvasárnap</td>\n",
              "      <td>13.1</td>\n",
              "      <td>8.3</td>\n",
              "      <td>1.8</td>\n",
              "      <td>0.0</td>\n",
              "    </tr>\n",
              "    <tr>\n",
              "      <th>1109</th>\n",
              "      <td>2022.11.14\\nhétfő</td>\n",
              "      <td>12.8</td>\n",
              "      <td>7.9</td>\n",
              "      <td>1.5</td>\n",
              "      <td>0.0</td>\n",
              "    </tr>\n",
              "  </tbody>\n",
              "</table>\n",
              "<p>1110 rows × 5 columns</p>\n",
              "</div>\n",
              "      <button class=\"colab-df-convert\" onclick=\"convertToInteractive('df-6d63345f-aeed-4cf4-bda0-65cd862e89ea')\"\n",
              "              title=\"Convert this dataframe to an interactive table.\"\n",
              "              style=\"display:none;\">\n",
              "        \n",
              "  <svg xmlns=\"http://www.w3.org/2000/svg\" height=\"24px\"viewBox=\"0 0 24 24\"\n",
              "       width=\"24px\">\n",
              "    <path d=\"M0 0h24v24H0V0z\" fill=\"none\"/>\n",
              "    <path d=\"M18.56 5.44l.94 2.06.94-2.06 2.06-.94-2.06-.94-.94-2.06-.94 2.06-2.06.94zm-11 1L8.5 8.5l.94-2.06 2.06-.94-2.06-.94L8.5 2.5l-.94 2.06-2.06.94zm10 10l.94 2.06.94-2.06 2.06-.94-2.06-.94-.94-2.06-.94 2.06-2.06.94z\"/><path d=\"M17.41 7.96l-1.37-1.37c-.4-.4-.92-.59-1.43-.59-.52 0-1.04.2-1.43.59L10.3 9.45l-7.72 7.72c-.78.78-.78 2.05 0 2.83L4 21.41c.39.39.9.59 1.41.59.51 0 1.02-.2 1.41-.59l7.78-7.78 2.81-2.81c.8-.78.8-2.07 0-2.86zM5.41 20L4 18.59l7.72-7.72 1.47 1.35L5.41 20z\"/>\n",
              "  </svg>\n",
              "      </button>\n",
              "      \n",
              "  <style>\n",
              "    .colab-df-container {\n",
              "      display:flex;\n",
              "      flex-wrap:wrap;\n",
              "      gap: 12px;\n",
              "    }\n",
              "\n",
              "    .colab-df-convert {\n",
              "      background-color: #E8F0FE;\n",
              "      border: none;\n",
              "      border-radius: 50%;\n",
              "      cursor: pointer;\n",
              "      display: none;\n",
              "      fill: #1967D2;\n",
              "      height: 32px;\n",
              "      padding: 0 0 0 0;\n",
              "      width: 32px;\n",
              "    }\n",
              "\n",
              "    .colab-df-convert:hover {\n",
              "      background-color: #E2EBFA;\n",
              "      box-shadow: 0px 1px 2px rgba(60, 64, 67, 0.3), 0px 1px 3px 1px rgba(60, 64, 67, 0.15);\n",
              "      fill: #174EA6;\n",
              "    }\n",
              "\n",
              "    [theme=dark] .colab-df-convert {\n",
              "      background-color: #3B4455;\n",
              "      fill: #D2E3FC;\n",
              "    }\n",
              "\n",
              "    [theme=dark] .colab-df-convert:hover {\n",
              "      background-color: #434B5C;\n",
              "      box-shadow: 0px 1px 3px 1px rgba(0, 0, 0, 0.15);\n",
              "      filter: drop-shadow(0px 1px 2px rgba(0, 0, 0, 0.3));\n",
              "      fill: #FFFFFF;\n",
              "    }\n",
              "  </style>\n",
              "\n",
              "      <script>\n",
              "        const buttonEl =\n",
              "          document.querySelector('#df-6d63345f-aeed-4cf4-bda0-65cd862e89ea button.colab-df-convert');\n",
              "        buttonEl.style.display =\n",
              "          google.colab.kernel.accessAllowed ? 'block' : 'none';\n",
              "\n",
              "        async function convertToInteractive(key) {\n",
              "          const element = document.querySelector('#df-6d63345f-aeed-4cf4-bda0-65cd862e89ea');\n",
              "          const dataTable =\n",
              "            await google.colab.kernel.invokeFunction('convertToInteractive',\n",
              "                                                     [key], {});\n",
              "          if (!dataTable) return;\n",
              "\n",
              "          const docLinkHtml = 'Like what you see? Visit the ' +\n",
              "            '<a target=\"_blank\" href=https://colab.research.google.com/notebooks/data_table.ipynb>data table notebook</a>'\n",
              "            + ' to learn more about interactive tables.';\n",
              "          element.innerHTML = '';\n",
              "          dataTable['output_type'] = 'display_data';\n",
              "          await google.colab.output.renderOutput(dataTable, element);\n",
              "          const docLink = document.createElement('div');\n",
              "          docLink.innerHTML = docLinkHtml;\n",
              "          element.appendChild(docLink);\n",
              "        }\n",
              "      </script>\n",
              "    </div>\n",
              "  </div>\n",
              "  "
            ]
          },
          "metadata": {},
          "execution_count": 2
        }
      ],
      "source": [
        "data = pd.read_excel(\"./traindata.xlsx\")\n",
        "data"
      ]
    },
    {
      "cell_type": "markdown",
      "source": [
        "It is quite obvious that this form isn't really usable, so we have to make a few changes:\n",
        "<li>I am adding an id to each row\n",
        "<li>I am adding a month variable that I'll later use as a predictor variable\n",
        "<li>I remove the \"szél\" and \"csapadék\" attributes, because I only want to use Tmin and Tmax at modelling\n",
        "<li>I transform the date, bacause it is quite strange now"
      ],
      "metadata": {
        "id": "k1-msdDM-eZA"
      }
    },
    {
      "cell_type": "code",
      "source": [
        "id_list = []\n",
        "date_list = []\n",
        "month_list = []\n",
        "Tmin_list = []\n",
        "Tmax_list = []\n",
        "counter = 0\n",
        "for i, row in data.iterrows():\n",
        "    id_list.append(counter)\n",
        "    counter += 1\n",
        "    date_list.append(row['Nap'][0:10])\n",
        "    month_list.append(row['Nap'][5:7])\n",
        "    Tmin_list.append(row['Tmin\\n [°C]'])\n",
        "    Tmax_list.append(row['Tmax\\n [°C]'])\n",
        "weather = pd.DataFrame(data={'id':id_list,'date':date_list,'month':month_list,\n",
        "                             'Tmin':Tmin_list, 'Tmax':Tmax_list})"
      ],
      "metadata": {
        "id": "-hTeaO9c9zGP"
      },
      "execution_count": null,
      "outputs": []
    },
    {
      "cell_type": "code",
      "source": [
        "weather.head()"
      ],
      "metadata": {
        "colab": {
          "base_uri": "https://localhost:8080/",
          "height": 206
        },
        "id": "ETUYDYHPB7-J",
        "outputId": "73af2a9a-9ca2-43b2-a1f5-88d4300befc1"
      },
      "execution_count": null,
      "outputs": [
        {
          "output_type": "execute_result",
          "data": {
            "text/plain": [
              "   id        date month  Tmin  Tmax\n",
              "0   0  2019.11.01    11   5.3   9.7\n",
              "1   1  2019.11.02    11   6.3  11.1\n",
              "2   2  2019.11.03    11   9.8  16.4\n",
              "3   3  2019.11.04    11   9.9  15.7\n",
              "4   4  2019.11.05    11   9.2  16.3"
            ],
            "text/html": [
              "\n",
              "  <div id=\"df-7d42c672-1953-4f27-b5fb-a2a03c85cbb6\">\n",
              "    <div class=\"colab-df-container\">\n",
              "      <div>\n",
              "<style scoped>\n",
              "    .dataframe tbody tr th:only-of-type {\n",
              "        vertical-align: middle;\n",
              "    }\n",
              "\n",
              "    .dataframe tbody tr th {\n",
              "        vertical-align: top;\n",
              "    }\n",
              "\n",
              "    .dataframe thead th {\n",
              "        text-align: right;\n",
              "    }\n",
              "</style>\n",
              "<table border=\"1\" class=\"dataframe\">\n",
              "  <thead>\n",
              "    <tr style=\"text-align: right;\">\n",
              "      <th></th>\n",
              "      <th>id</th>\n",
              "      <th>date</th>\n",
              "      <th>month</th>\n",
              "      <th>Tmin</th>\n",
              "      <th>Tmax</th>\n",
              "    </tr>\n",
              "  </thead>\n",
              "  <tbody>\n",
              "    <tr>\n",
              "      <th>0</th>\n",
              "      <td>0</td>\n",
              "      <td>2019.11.01</td>\n",
              "      <td>11</td>\n",
              "      <td>5.3</td>\n",
              "      <td>9.7</td>\n",
              "    </tr>\n",
              "    <tr>\n",
              "      <th>1</th>\n",
              "      <td>1</td>\n",
              "      <td>2019.11.02</td>\n",
              "      <td>11</td>\n",
              "      <td>6.3</td>\n",
              "      <td>11.1</td>\n",
              "    </tr>\n",
              "    <tr>\n",
              "      <th>2</th>\n",
              "      <td>2</td>\n",
              "      <td>2019.11.03</td>\n",
              "      <td>11</td>\n",
              "      <td>9.8</td>\n",
              "      <td>16.4</td>\n",
              "    </tr>\n",
              "    <tr>\n",
              "      <th>3</th>\n",
              "      <td>3</td>\n",
              "      <td>2019.11.04</td>\n",
              "      <td>11</td>\n",
              "      <td>9.9</td>\n",
              "      <td>15.7</td>\n",
              "    </tr>\n",
              "    <tr>\n",
              "      <th>4</th>\n",
              "      <td>4</td>\n",
              "      <td>2019.11.05</td>\n",
              "      <td>11</td>\n",
              "      <td>9.2</td>\n",
              "      <td>16.3</td>\n",
              "    </tr>\n",
              "  </tbody>\n",
              "</table>\n",
              "</div>\n",
              "      <button class=\"colab-df-convert\" onclick=\"convertToInteractive('df-7d42c672-1953-4f27-b5fb-a2a03c85cbb6')\"\n",
              "              title=\"Convert this dataframe to an interactive table.\"\n",
              "              style=\"display:none;\">\n",
              "        \n",
              "  <svg xmlns=\"http://www.w3.org/2000/svg\" height=\"24px\"viewBox=\"0 0 24 24\"\n",
              "       width=\"24px\">\n",
              "    <path d=\"M0 0h24v24H0V0z\" fill=\"none\"/>\n",
              "    <path d=\"M18.56 5.44l.94 2.06.94-2.06 2.06-.94-2.06-.94-.94-2.06-.94 2.06-2.06.94zm-11 1L8.5 8.5l.94-2.06 2.06-.94-2.06-.94L8.5 2.5l-.94 2.06-2.06.94zm10 10l.94 2.06.94-2.06 2.06-.94-2.06-.94-.94-2.06-.94 2.06-2.06.94z\"/><path d=\"M17.41 7.96l-1.37-1.37c-.4-.4-.92-.59-1.43-.59-.52 0-1.04.2-1.43.59L10.3 9.45l-7.72 7.72c-.78.78-.78 2.05 0 2.83L4 21.41c.39.39.9.59 1.41.59.51 0 1.02-.2 1.41-.59l7.78-7.78 2.81-2.81c.8-.78.8-2.07 0-2.86zM5.41 20L4 18.59l7.72-7.72 1.47 1.35L5.41 20z\"/>\n",
              "  </svg>\n",
              "      </button>\n",
              "      \n",
              "  <style>\n",
              "    .colab-df-container {\n",
              "      display:flex;\n",
              "      flex-wrap:wrap;\n",
              "      gap: 12px;\n",
              "    }\n",
              "\n",
              "    .colab-df-convert {\n",
              "      background-color: #E8F0FE;\n",
              "      border: none;\n",
              "      border-radius: 50%;\n",
              "      cursor: pointer;\n",
              "      display: none;\n",
              "      fill: #1967D2;\n",
              "      height: 32px;\n",
              "      padding: 0 0 0 0;\n",
              "      width: 32px;\n",
              "    }\n",
              "\n",
              "    .colab-df-convert:hover {\n",
              "      background-color: #E2EBFA;\n",
              "      box-shadow: 0px 1px 2px rgba(60, 64, 67, 0.3), 0px 1px 3px 1px rgba(60, 64, 67, 0.15);\n",
              "      fill: #174EA6;\n",
              "    }\n",
              "\n",
              "    [theme=dark] .colab-df-convert {\n",
              "      background-color: #3B4455;\n",
              "      fill: #D2E3FC;\n",
              "    }\n",
              "\n",
              "    [theme=dark] .colab-df-convert:hover {\n",
              "      background-color: #434B5C;\n",
              "      box-shadow: 0px 1px 3px 1px rgba(0, 0, 0, 0.15);\n",
              "      filter: drop-shadow(0px 1px 2px rgba(0, 0, 0, 0.3));\n",
              "      fill: #FFFFFF;\n",
              "    }\n",
              "  </style>\n",
              "\n",
              "      <script>\n",
              "        const buttonEl =\n",
              "          document.querySelector('#df-7d42c672-1953-4f27-b5fb-a2a03c85cbb6 button.colab-df-convert');\n",
              "        buttonEl.style.display =\n",
              "          google.colab.kernel.accessAllowed ? 'block' : 'none';\n",
              "\n",
              "        async function convertToInteractive(key) {\n",
              "          const element = document.querySelector('#df-7d42c672-1953-4f27-b5fb-a2a03c85cbb6');\n",
              "          const dataTable =\n",
              "            await google.colab.kernel.invokeFunction('convertToInteractive',\n",
              "                                                     [key], {});\n",
              "          if (!dataTable) return;\n",
              "\n",
              "          const docLinkHtml = 'Like what you see? Visit the ' +\n",
              "            '<a target=\"_blank\" href=https://colab.research.google.com/notebooks/data_table.ipynb>data table notebook</a>'\n",
              "            + ' to learn more about interactive tables.';\n",
              "          element.innerHTML = '';\n",
              "          dataTable['output_type'] = 'display_data';\n",
              "          await google.colab.output.renderOutput(dataTable, element);\n",
              "          const docLink = document.createElement('div');\n",
              "          docLink.innerHTML = docLinkHtml;\n",
              "          element.appendChild(docLink);\n",
              "        }\n",
              "      </script>\n",
              "    </div>\n",
              "  </div>\n",
              "  "
            ]
          },
          "metadata": {},
          "execution_count": 4
        }
      ]
    },
    {
      "cell_type": "markdown",
      "source": [
        "We need to change the type of 'date' attribute to datetime."
      ],
      "metadata": {
        "id": "gVLLOydKvjmc"
      }
    },
    {
      "cell_type": "code",
      "source": [
        "weather['date']= pd.to_datetime(weather['date'])"
      ],
      "metadata": {
        "id": "OVjrMrBvu72Q"
      },
      "execution_count": null,
      "outputs": []
    },
    {
      "cell_type": "code",
      "source": [
        "weather.head()"
      ],
      "metadata": {
        "colab": {
          "base_uri": "https://localhost:8080/",
          "height": 206
        },
        "id": "8WAR3dUWvgr0",
        "outputId": "389ec5a0-b4c9-437b-bb1f-6539f9ffd0e5"
      },
      "execution_count": null,
      "outputs": [
        {
          "output_type": "execute_result",
          "data": {
            "text/plain": [
              "   id       date month  Tmin  Tmax\n",
              "0   0 2019-11-01    11   5.3   9.7\n",
              "1   1 2019-11-02    11   6.3  11.1\n",
              "2   2 2019-11-03    11   9.8  16.4\n",
              "3   3 2019-11-04    11   9.9  15.7\n",
              "4   4 2019-11-05    11   9.2  16.3"
            ],
            "text/html": [
              "\n",
              "  <div id=\"df-90564ed9-5a03-4f3c-a9da-3cef4fbccde7\">\n",
              "    <div class=\"colab-df-container\">\n",
              "      <div>\n",
              "<style scoped>\n",
              "    .dataframe tbody tr th:only-of-type {\n",
              "        vertical-align: middle;\n",
              "    }\n",
              "\n",
              "    .dataframe tbody tr th {\n",
              "        vertical-align: top;\n",
              "    }\n",
              "\n",
              "    .dataframe thead th {\n",
              "        text-align: right;\n",
              "    }\n",
              "</style>\n",
              "<table border=\"1\" class=\"dataframe\">\n",
              "  <thead>\n",
              "    <tr style=\"text-align: right;\">\n",
              "      <th></th>\n",
              "      <th>id</th>\n",
              "      <th>date</th>\n",
              "      <th>month</th>\n",
              "      <th>Tmin</th>\n",
              "      <th>Tmax</th>\n",
              "    </tr>\n",
              "  </thead>\n",
              "  <tbody>\n",
              "    <tr>\n",
              "      <th>0</th>\n",
              "      <td>0</td>\n",
              "      <td>2019-11-01</td>\n",
              "      <td>11</td>\n",
              "      <td>5.3</td>\n",
              "      <td>9.7</td>\n",
              "    </tr>\n",
              "    <tr>\n",
              "      <th>1</th>\n",
              "      <td>1</td>\n",
              "      <td>2019-11-02</td>\n",
              "      <td>11</td>\n",
              "      <td>6.3</td>\n",
              "      <td>11.1</td>\n",
              "    </tr>\n",
              "    <tr>\n",
              "      <th>2</th>\n",
              "      <td>2</td>\n",
              "      <td>2019-11-03</td>\n",
              "      <td>11</td>\n",
              "      <td>9.8</td>\n",
              "      <td>16.4</td>\n",
              "    </tr>\n",
              "    <tr>\n",
              "      <th>3</th>\n",
              "      <td>3</td>\n",
              "      <td>2019-11-04</td>\n",
              "      <td>11</td>\n",
              "      <td>9.9</td>\n",
              "      <td>15.7</td>\n",
              "    </tr>\n",
              "    <tr>\n",
              "      <th>4</th>\n",
              "      <td>4</td>\n",
              "      <td>2019-11-05</td>\n",
              "      <td>11</td>\n",
              "      <td>9.2</td>\n",
              "      <td>16.3</td>\n",
              "    </tr>\n",
              "  </tbody>\n",
              "</table>\n",
              "</div>\n",
              "      <button class=\"colab-df-convert\" onclick=\"convertToInteractive('df-90564ed9-5a03-4f3c-a9da-3cef4fbccde7')\"\n",
              "              title=\"Convert this dataframe to an interactive table.\"\n",
              "              style=\"display:none;\">\n",
              "        \n",
              "  <svg xmlns=\"http://www.w3.org/2000/svg\" height=\"24px\"viewBox=\"0 0 24 24\"\n",
              "       width=\"24px\">\n",
              "    <path d=\"M0 0h24v24H0V0z\" fill=\"none\"/>\n",
              "    <path d=\"M18.56 5.44l.94 2.06.94-2.06 2.06-.94-2.06-.94-.94-2.06-.94 2.06-2.06.94zm-11 1L8.5 8.5l.94-2.06 2.06-.94-2.06-.94L8.5 2.5l-.94 2.06-2.06.94zm10 10l.94 2.06.94-2.06 2.06-.94-2.06-.94-.94-2.06-.94 2.06-2.06.94z\"/><path d=\"M17.41 7.96l-1.37-1.37c-.4-.4-.92-.59-1.43-.59-.52 0-1.04.2-1.43.59L10.3 9.45l-7.72 7.72c-.78.78-.78 2.05 0 2.83L4 21.41c.39.39.9.59 1.41.59.51 0 1.02-.2 1.41-.59l7.78-7.78 2.81-2.81c.8-.78.8-2.07 0-2.86zM5.41 20L4 18.59l7.72-7.72 1.47 1.35L5.41 20z\"/>\n",
              "  </svg>\n",
              "      </button>\n",
              "      \n",
              "  <style>\n",
              "    .colab-df-container {\n",
              "      display:flex;\n",
              "      flex-wrap:wrap;\n",
              "      gap: 12px;\n",
              "    }\n",
              "\n",
              "    .colab-df-convert {\n",
              "      background-color: #E8F0FE;\n",
              "      border: none;\n",
              "      border-radius: 50%;\n",
              "      cursor: pointer;\n",
              "      display: none;\n",
              "      fill: #1967D2;\n",
              "      height: 32px;\n",
              "      padding: 0 0 0 0;\n",
              "      width: 32px;\n",
              "    }\n",
              "\n",
              "    .colab-df-convert:hover {\n",
              "      background-color: #E2EBFA;\n",
              "      box-shadow: 0px 1px 2px rgba(60, 64, 67, 0.3), 0px 1px 3px 1px rgba(60, 64, 67, 0.15);\n",
              "      fill: #174EA6;\n",
              "    }\n",
              "\n",
              "    [theme=dark] .colab-df-convert {\n",
              "      background-color: #3B4455;\n",
              "      fill: #D2E3FC;\n",
              "    }\n",
              "\n",
              "    [theme=dark] .colab-df-convert:hover {\n",
              "      background-color: #434B5C;\n",
              "      box-shadow: 0px 1px 3px 1px rgba(0, 0, 0, 0.15);\n",
              "      filter: drop-shadow(0px 1px 2px rgba(0, 0, 0, 0.3));\n",
              "      fill: #FFFFFF;\n",
              "    }\n",
              "  </style>\n",
              "\n",
              "      <script>\n",
              "        const buttonEl =\n",
              "          document.querySelector('#df-90564ed9-5a03-4f3c-a9da-3cef4fbccde7 button.colab-df-convert');\n",
              "        buttonEl.style.display =\n",
              "          google.colab.kernel.accessAllowed ? 'block' : 'none';\n",
              "\n",
              "        async function convertToInteractive(key) {\n",
              "          const element = document.querySelector('#df-90564ed9-5a03-4f3c-a9da-3cef4fbccde7');\n",
              "          const dataTable =\n",
              "            await google.colab.kernel.invokeFunction('convertToInteractive',\n",
              "                                                     [key], {});\n",
              "          if (!dataTable) return;\n",
              "\n",
              "          const docLinkHtml = 'Like what you see? Visit the ' +\n",
              "            '<a target=\"_blank\" href=https://colab.research.google.com/notebooks/data_table.ipynb>data table notebook</a>'\n",
              "            + ' to learn more about interactive tables.';\n",
              "          element.innerHTML = '';\n",
              "          dataTable['output_type'] = 'display_data';\n",
              "          await google.colab.output.renderOutput(dataTable, element);\n",
              "          const docLink = document.createElement('div');\n",
              "          docLink.innerHTML = docLinkHtml;\n",
              "          element.appendChild(docLink);\n",
              "        }\n",
              "      </script>\n",
              "    </div>\n",
              "  </div>\n",
              "  "
            ]
          },
          "metadata": {},
          "execution_count": 6
        }
      ]
    },
    {
      "cell_type": "markdown",
      "source": [
        "Since the data is dependent on the date, we cannot easily do a train-test-split. We have to make predictor variables:\n",
        "<p>Each row of the predictor varables will contain 4 consecutive rows of our original database, flattened out into [Month1, Tmin1, Tmax1, ..., Month4, Tmin4, Tmax4] which is exactly 12 values per row.\n",
        "<p>Each row of the output variables will contain the lowest and highest temperatures of the following day: [Tmin5, Tmax5].\n",
        "<p>This way our predictor has access to temperatures of the previous 4 days, and knows generally what season we're currently in."
      ],
      "metadata": {
        "id": "xWDtHELxMJOe"
      }
    },
    {
      "cell_type": "code",
      "source": [
        "X = []\n",
        "y = []\n",
        "for i, row in weather.iterrows():\n",
        "    if i < len(weather)-4:\n",
        "        current_X_element = []\n",
        "        for j in range(4):\n",
        "            cur_row = weather[i+j:i+j+1]\n",
        "            current_X_element.append(int(cur_row['month']))\n",
        "            current_X_element.append(float(cur_row['Tmin']))\n",
        "            current_X_element.append(float(cur_row['Tmax']))\n",
        "        X.append(current_X_element)\n",
        "        cur_target_row = weather[i+4:i+5]\n",
        "        y.append([float(cur_target_row['Tmin']),\n",
        "                  float(cur_target_row['Tmax'])])\n",
        "X = np.array(X)\n",
        "y = np.array(y)"
      ],
      "metadata": {
        "id": "g71N9a1dL6De"
      },
      "execution_count": null,
      "outputs": []
    },
    {
      "cell_type": "markdown",
      "source": [
        "The predictor variables look like the this:"
      ],
      "metadata": {
        "id": "6OFZv8hPNWCt"
      }
    },
    {
      "cell_type": "code",
      "source": [
        "X[0:5]"
      ],
      "metadata": {
        "colab": {
          "base_uri": "https://localhost:8080/"
        },
        "id": "5w1kwJ4kNNG7",
        "outputId": "b6012bfc-286c-435b-8d7f-7c61449ae45c"
      },
      "execution_count": null,
      "outputs": [
        {
          "output_type": "execute_result",
          "data": {
            "text/plain": [
              "array([[11. ,  5.3,  9.7, 11. ,  6.3, 11.1, 11. ,  9.8, 16.4, 11. ,  9.9,\n",
              "        15.7],\n",
              "       [11. ,  6.3, 11.1, 11. ,  9.8, 16.4, 11. ,  9.9, 15.7, 11. ,  9.2,\n",
              "        16.3],\n",
              "       [11. ,  9.8, 16.4, 11. ,  9.9, 15.7, 11. ,  9.2, 16.3, 11. ,  9.7,\n",
              "        12.7],\n",
              "       [11. ,  9.9, 15.7, 11. ,  9.2, 16.3, 11. ,  9.7, 12.7, 11. ,  9.6,\n",
              "        13.9],\n",
              "       [11. ,  9.2, 16.3, 11. ,  9.7, 12.7, 11. ,  9.6, 13.9, 11. ,  8.5,\n",
              "        13.5]])"
            ]
          },
          "metadata": {},
          "execution_count": 8
        }
      ]
    },
    {
      "cell_type": "code",
      "source": [
        "X.shape"
      ],
      "metadata": {
        "colab": {
          "base_uri": "https://localhost:8080/"
        },
        "id": "Uo40gd3YNYE6",
        "outputId": "b99e50e8-5911-4c29-9c2b-6ab1837067ca"
      },
      "execution_count": null,
      "outputs": [
        {
          "output_type": "execute_result",
          "data": {
            "text/plain": [
              "(1106, 12)"
            ]
          },
          "metadata": {},
          "execution_count": 9
        }
      ]
    },
    {
      "cell_type": "markdown",
      "source": [
        "The output variables look like this:"
      ],
      "metadata": {
        "id": "LKRZGSJTNycL"
      }
    },
    {
      "cell_type": "code",
      "source": [
        "y[0:5]"
      ],
      "metadata": {
        "colab": {
          "base_uri": "https://localhost:8080/"
        },
        "id": "1KKmEktoNqYr",
        "outputId": "c0ef9d78-58c7-4ee0-d849-d65cb7e31712"
      },
      "execution_count": null,
      "outputs": [
        {
          "output_type": "execute_result",
          "data": {
            "text/plain": [
              "array([[ 9.2, 16.3],\n",
              "       [ 9.7, 12.7],\n",
              "       [ 9.6, 13.9],\n",
              "       [ 8.5, 13.5],\n",
              "       [10.5, 15.1]])"
            ]
          },
          "metadata": {},
          "execution_count": 10
        }
      ]
    },
    {
      "cell_type": "code",
      "source": [
        "y.shape"
      ],
      "metadata": {
        "colab": {
          "base_uri": "https://localhost:8080/"
        },
        "id": "k2Zbz9HLN4fE",
        "outputId": "309eb29b-4fed-40f7-e5f3-823bafff2dc8"
      },
      "execution_count": null,
      "outputs": [
        {
          "output_type": "execute_result",
          "data": {
            "text/plain": [
              "(1106, 2)"
            ]
          },
          "metadata": {},
          "execution_count": 11
        }
      ]
    },
    {
      "cell_type": "markdown",
      "source": [
        "Now we have the training data in such a form, that train-test-split can be used on it."
      ],
      "metadata": {
        "id": "aJgMjoNaOCNX"
      }
    },
    {
      "cell_type": "code",
      "source": [
        "X_train, X_test, y_train, y_test = train_test_split(X, y, test_size=0.3, random_state=random_state)\n",
        "print(\"Shape of X_train: \", X_train.shape)\n",
        "print(\"Shape of X_test: \", X_test.shape)\n",
        "print(\"Shape of y_train: \", y_train.shape)\n",
        "print(\"Shape of y_test: \", y_test.shape)"
      ],
      "metadata": {
        "colab": {
          "base_uri": "https://localhost:8080/"
        },
        "id": "RBZz7Y6DN96h",
        "outputId": "4d61a4d1-19d8-4d0a-fccd-350c6e5ede38"
      },
      "execution_count": null,
      "outputs": [
        {
          "output_type": "stream",
          "name": "stdout",
          "text": [
            "Shape of X_train:  (774, 12)\n",
            "Shape of X_test:  (332, 12)\n",
            "Shape of y_train:  (774, 2)\n",
            "Shape of y_test:  (332, 2)\n"
          ]
        }
      ]
    },
    {
      "cell_type": "markdown",
      "source": [
        "**Modelling**"
      ],
      "metadata": {
        "id": "xNh9NoibOY80"
      }
    },
    {
      "cell_type": "markdown",
      "source": [
        "The model has two hidden layers: Dense layers with 32 neurons, and relu activation. Then the last layers is a Dense with 2 neurons (it is going to predict the Tmin and Tmax values)"
      ],
      "metadata": {
        "id": "GMadS4lopVro"
      }
    },
    {
      "cell_type": "code",
      "source": [
        "model = Sequential()\n",
        "model.add(Dense(units=32, input_dim=X.shape[1],kernel_regularizer=tf.keras.regularizers.l1(0.01), activation='relu'))\n",
        "model.add(Dense(units=32, input_dim=32,kernel_regularizer=tf.keras.regularizers.l1(0.01), activation='relu'))\n",
        "model.add(Dense(units=2))\n",
        "\n",
        "model.compile(loss='mse', optimizer='adam', metrics=['acc'])"
      ],
      "metadata": {
        "id": "kFQwdBBqOPXo"
      },
      "execution_count": null,
      "outputs": []
    },
    {
      "cell_type": "code",
      "source": [
        "es=EarlyStopping(patience=10, verbose=1)\n",
        "cp=ModelCheckpoint(filepath='weights.hdf5', save_best_only=True, verbose=1)"
      ],
      "metadata": {
        "id": "lyty6FtOqEEc"
      },
      "execution_count": null,
      "outputs": []
    },
    {
      "cell_type": "code",
      "source": [
        "model.fit(X_train, y_train, batch_size=20, epochs=100, validation_split= 0.1, callbacks=[cp,es])"
      ],
      "metadata": {
        "colab": {
          "base_uri": "https://localhost:8080/"
        },
        "id": "y1tug72ypxYU",
        "outputId": "af054c4f-384e-4851-b24e-662479a768a6"
      },
      "execution_count": null,
      "outputs": [
        {
          "output_type": "stream",
          "name": "stdout",
          "text": [
            "Epoch 1/100\n",
            "26/35 [=====================>........] - ETA: 0s - loss: 194.8967 - acc: 0.8558 \n",
            "Epoch 1: val_loss improved from inf to 36.52967, saving model to weights.hdf5\n",
            "35/35 [==============================] - 1s 10ms/step - loss: 158.6073 - acc: 0.8649 - val_loss: 36.5297 - val_acc: 0.9231\n",
            "Epoch 2/100\n",
            "22/35 [=================>............] - ETA: 0s - loss: 18.9505 - acc: 0.9909\n",
            "Epoch 2: val_loss improved from 36.52967 to 17.15287, saving model to weights.hdf5\n",
            "35/35 [==============================] - 0s 4ms/step - loss: 17.5601 - acc: 0.9943 - val_loss: 17.1529 - val_acc: 0.9872\n",
            "Epoch 3/100\n",
            "24/35 [===================>..........] - ETA: 0s - loss: 12.4042 - acc: 1.0000\n",
            "Epoch 3: val_loss improved from 17.15287 to 14.50592, saving model to weights.hdf5\n",
            "35/35 [==============================] - 0s 4ms/step - loss: 12.4128 - acc: 1.0000 - val_loss: 14.5059 - val_acc: 1.0000\n",
            "Epoch 4/100\n",
            "27/35 [======================>.......] - ETA: 0s - loss: 10.9339 - acc: 1.0000\n",
            "Epoch 4: val_loss improved from 14.50592 to 13.11670, saving model to weights.hdf5\n",
            "35/35 [==============================] - 0s 4ms/step - loss: 10.6198 - acc: 1.0000 - val_loss: 13.1167 - val_acc: 1.0000\n",
            "Epoch 5/100\n",
            "24/35 [===================>..........] - ETA: 0s - loss: 9.5477 - acc: 1.0000 \n",
            "Epoch 5: val_loss improved from 13.11670 to 11.66691, saving model to weights.hdf5\n",
            "35/35 [==============================] - 0s 4ms/step - loss: 9.5052 - acc: 1.0000 - val_loss: 11.6669 - val_acc: 1.0000\n",
            "Epoch 6/100\n",
            "21/35 [=================>............] - ETA: 0s - loss: 8.7070 - acc: 1.0000\n",
            "Epoch 6: val_loss improved from 11.66691 to 10.61043, saving model to weights.hdf5\n",
            "35/35 [==============================] - 0s 4ms/step - loss: 8.5573 - acc: 1.0000 - val_loss: 10.6104 - val_acc: 1.0000\n",
            "Epoch 7/100\n",
            "24/35 [===================>..........] - ETA: 0s - loss: 7.8906 - acc: 1.0000\n",
            "Epoch 7: val_loss improved from 10.61043 to 9.94129, saving model to weights.hdf5\n",
            "35/35 [==============================] - 0s 4ms/step - loss: 8.0576 - acc: 1.0000 - val_loss: 9.9413 - val_acc: 1.0000\n",
            "Epoch 8/100\n",
            "27/35 [======================>.......] - ETA: 0s - loss: 7.8687 - acc: 1.0000\n",
            "Epoch 8: val_loss improved from 9.94129 to 9.56882, saving model to weights.hdf5\n",
            "35/35 [==============================] - 0s 4ms/step - loss: 7.5185 - acc: 1.0000 - val_loss: 9.5688 - val_acc: 1.0000\n",
            "Epoch 9/100\n",
            "21/35 [=================>............] - ETA: 0s - loss: 7.0205 - acc: 1.0000\n",
            "Epoch 9: val_loss did not improve from 9.56882\n",
            "35/35 [==============================] - 0s 3ms/step - loss: 7.2421 - acc: 1.0000 - val_loss: 9.5767 - val_acc: 1.0000\n",
            "Epoch 10/100\n",
            "23/35 [==================>...........] - ETA: 0s - loss: 7.2289 - acc: 1.0000 \n",
            "Epoch 10: val_loss improved from 9.56882 to 8.61611, saving model to weights.hdf5\n",
            "35/35 [==============================] - 0s 4ms/step - loss: 7.1223 - acc: 1.0000 - val_loss: 8.6161 - val_acc: 1.0000\n",
            "Epoch 11/100\n",
            "26/35 [=====================>........] - ETA: 0s - loss: 6.7259 - acc: 1.0000\n",
            "Epoch 11: val_loss did not improve from 8.61611\n",
            "35/35 [==============================] - 0s 3ms/step - loss: 7.0046 - acc: 1.0000 - val_loss: 8.7428 - val_acc: 1.0000\n",
            "Epoch 12/100\n",
            "27/35 [======================>.......] - ETA: 0s - loss: 6.7124 - acc: 1.0000\n",
            "Epoch 12: val_loss improved from 8.61611 to 8.15225, saving model to weights.hdf5\n",
            "35/35 [==============================] - 0s 3ms/step - loss: 6.7889 - acc: 1.0000 - val_loss: 8.1522 - val_acc: 1.0000\n",
            "Epoch 13/100\n",
            "25/35 [====================>.........] - ETA: 0s - loss: 6.4385 - acc: 1.0000\n",
            "Epoch 13: val_loss did not improve from 8.15225\n",
            "35/35 [==============================] - 0s 3ms/step - loss: 6.6647 - acc: 1.0000 - val_loss: 8.3058 - val_acc: 1.0000\n",
            "Epoch 14/100\n",
            "26/35 [=====================>........] - ETA: 0s - loss: 6.4149 - acc: 1.0000\n",
            "Epoch 14: val_loss did not improve from 8.15225\n",
            "35/35 [==============================] - 0s 3ms/step - loss: 6.5416 - acc: 1.0000 - val_loss: 8.2532 - val_acc: 1.0000\n",
            "Epoch 15/100\n",
            "25/35 [====================>.........] - ETA: 0s - loss: 6.4408 - acc: 1.0000 \n",
            "Epoch 15: val_loss improved from 8.15225 to 7.77092, saving model to weights.hdf5\n",
            "35/35 [==============================] - 0s 4ms/step - loss: 6.7168 - acc: 1.0000 - val_loss: 7.7709 - val_acc: 1.0000\n",
            "Epoch 16/100\n",
            "23/35 [==================>...........] - ETA: 0s - loss: 6.9067 - acc: 1.0000\n",
            "Epoch 16: val_loss did not improve from 7.77092\n",
            "35/35 [==============================] - 0s 3ms/step - loss: 6.4422 - acc: 1.0000 - val_loss: 8.0856 - val_acc: 1.0000\n",
            "Epoch 17/100\n",
            "22/35 [=================>............] - ETA: 0s - loss: 6.1786 - acc: 1.0000\n",
            "Epoch 17: val_loss did not improve from 7.77092\n",
            "35/35 [==============================] - 0s 3ms/step - loss: 6.5092 - acc: 1.0000 - val_loss: 8.3844 - val_acc: 1.0000\n",
            "Epoch 18/100\n",
            "14/35 [===========>..................] - ETA: 0s - loss: 6.6727 - acc: 1.0000\n",
            "Epoch 18: val_loss did not improve from 7.77092\n",
            "35/35 [==============================] - 0s 4ms/step - loss: 6.6338 - acc: 1.0000 - val_loss: 8.0083 - val_acc: 1.0000\n",
            "Epoch 19/100\n",
            "25/35 [====================>.........] - ETA: 0s - loss: 6.1953 - acc: 1.0000\n",
            "Epoch 19: val_loss improved from 7.77092 to 7.66650, saving model to weights.hdf5\n",
            "35/35 [==============================] - 0s 4ms/step - loss: 6.4477 - acc: 1.0000 - val_loss: 7.6665 - val_acc: 1.0000\n",
            "Epoch 20/100\n",
            "23/35 [==================>...........] - ETA: 0s - loss: 6.4000 - acc: 1.0000\n",
            "Epoch 20: val_loss did not improve from 7.66650\n",
            "35/35 [==============================] - 0s 3ms/step - loss: 6.3054 - acc: 1.0000 - val_loss: 7.7406 - val_acc: 1.0000\n",
            "Epoch 21/100\n",
            "27/35 [======================>.......] - ETA: 0s - loss: 6.4320 - acc: 1.0000\n",
            "Epoch 21: val_loss did not improve from 7.66650\n",
            "35/35 [==============================] - 0s 3ms/step - loss: 6.4111 - acc: 1.0000 - val_loss: 7.8057 - val_acc: 1.0000\n",
            "Epoch 22/100\n",
            "27/35 [======================>.......] - ETA: 0s - loss: 6.3528 - acc: 1.0000\n",
            "Epoch 22: val_loss did not improve from 7.66650\n",
            "35/35 [==============================] - 0s 3ms/step - loss: 6.4234 - acc: 1.0000 - val_loss: 8.2395 - val_acc: 1.0000\n",
            "Epoch 23/100\n",
            "18/35 [==============>...............] - ETA: 0s - loss: 6.7864 - acc: 1.0000\n",
            "Epoch 23: val_loss did not improve from 7.66650\n",
            "35/35 [==============================] - 0s 4ms/step - loss: 6.4550 - acc: 1.0000 - val_loss: 7.7901 - val_acc: 1.0000\n",
            "Epoch 24/100\n",
            "26/35 [=====================>........] - ETA: 0s - loss: 6.3077 - acc: 1.0000\n",
            "Epoch 24: val_loss did not improve from 7.66650\n",
            "35/35 [==============================] - 0s 3ms/step - loss: 6.2596 - acc: 1.0000 - val_loss: 7.6800 - val_acc: 1.0000\n",
            "Epoch 25/100\n",
            "23/35 [==================>...........] - ETA: 0s - loss: 6.0751 - acc: 1.0000\n",
            "Epoch 25: val_loss improved from 7.66650 to 7.63386, saving model to weights.hdf5\n",
            "35/35 [==============================] - 0s 4ms/step - loss: 6.3016 - acc: 1.0000 - val_loss: 7.6339 - val_acc: 1.0000\n",
            "Epoch 26/100\n",
            "26/35 [=====================>........] - ETA: 0s - loss: 6.3676 - acc: 1.0000\n",
            "Epoch 26: val_loss improved from 7.63386 to 7.59823, saving model to weights.hdf5\n",
            "35/35 [==============================] - 0s 4ms/step - loss: 6.2655 - acc: 1.0000 - val_loss: 7.5982 - val_acc: 1.0000\n",
            "Epoch 27/100\n",
            "26/35 [=====================>........] - ETA: 0s - loss: 5.8272 - acc: 1.0000\n",
            "Epoch 27: val_loss did not improve from 7.59823\n",
            "35/35 [==============================] - 0s 3ms/step - loss: 6.2410 - acc: 1.0000 - val_loss: 7.7043 - val_acc: 1.0000\n",
            "Epoch 28/100\n",
            "22/35 [=================>............] - ETA: 0s - loss: 6.4782 - acc: 1.0000\n",
            "Epoch 28: val_loss did not improve from 7.59823\n",
            "35/35 [==============================] - 0s 3ms/step - loss: 6.3086 - acc: 1.0000 - val_loss: 7.6453 - val_acc: 1.0000\n",
            "Epoch 29/100\n",
            "26/35 [=====================>........] - ETA: 0s - loss: 6.1069 - acc: 1.0000\n",
            "Epoch 29: val_loss did not improve from 7.59823\n",
            "35/35 [==============================] - 0s 3ms/step - loss: 6.3173 - acc: 1.0000 - val_loss: 7.7295 - val_acc: 1.0000\n",
            "Epoch 30/100\n",
            "24/35 [===================>..........] - ETA: 0s - loss: 6.6987 - acc: 1.0000\n",
            "Epoch 30: val_loss did not improve from 7.59823\n",
            "35/35 [==============================] - 0s 3ms/step - loss: 6.8158 - acc: 1.0000 - val_loss: 8.8097 - val_acc: 1.0000\n",
            "Epoch 31/100\n",
            "20/35 [================>.............] - ETA: 0s - loss: 6.1045 - acc: 1.0000\n",
            "Epoch 31: val_loss did not improve from 7.59823\n",
            "35/35 [==============================] - 0s 3ms/step - loss: 6.4716 - acc: 1.0000 - val_loss: 8.1877 - val_acc: 1.0000\n",
            "Epoch 32/100\n",
            "26/35 [=====================>........] - ETA: 0s - loss: 6.2393 - acc: 1.0000\n",
            "Epoch 32: val_loss improved from 7.59823 to 7.57333, saving model to weights.hdf5\n",
            "35/35 [==============================] - 0s 4ms/step - loss: 6.3038 - acc: 1.0000 - val_loss: 7.5733 - val_acc: 1.0000\n",
            "Epoch 33/100\n",
            "26/35 [=====================>........] - ETA: 0s - loss: 6.2083 - acc: 1.0000\n",
            "Epoch 33: val_loss did not improve from 7.57333\n",
            "35/35 [==============================] - 0s 3ms/step - loss: 6.2068 - acc: 1.0000 - val_loss: 7.5902 - val_acc: 1.0000\n",
            "Epoch 34/100\n",
            "28/35 [=======================>......] - ETA: 0s - loss: 6.3007 - acc: 1.0000\n",
            "Epoch 34: val_loss did not improve from 7.57333\n",
            "35/35 [==============================] - 0s 3ms/step - loss: 6.2094 - acc: 1.0000 - val_loss: 7.6457 - val_acc: 1.0000\n",
            "Epoch 35/100\n",
            "26/35 [=====================>........] - ETA: 0s - loss: 6.1883 - acc: 1.0000\n",
            "Epoch 35: val_loss did not improve from 7.57333\n",
            "35/35 [==============================] - 0s 3ms/step - loss: 6.2343 - acc: 1.0000 - val_loss: 7.8266 - val_acc: 1.0000\n",
            "Epoch 36/100\n",
            "22/35 [=================>............] - ETA: 0s - loss: 6.0370 - acc: 1.0000\n",
            "Epoch 36: val_loss did not improve from 7.57333\n",
            "35/35 [==============================] - 0s 3ms/step - loss: 6.1292 - acc: 1.0000 - val_loss: 7.7419 - val_acc: 1.0000\n",
            "Epoch 37/100\n",
            "25/35 [====================>.........] - ETA: 0s - loss: 6.3251 - acc: 1.0000\n",
            "Epoch 37: val_loss did not improve from 7.57333\n",
            "35/35 [==============================] - 0s 3ms/step - loss: 6.3209 - acc: 1.0000 - val_loss: 7.7064 - val_acc: 1.0000\n",
            "Epoch 38/100\n",
            "25/35 [====================>.........] - ETA: 0s - loss: 6.1597 - acc: 1.0000\n",
            "Epoch 38: val_loss improved from 7.57333 to 7.48760, saving model to weights.hdf5\n",
            "35/35 [==============================] - 0s 4ms/step - loss: 6.2426 - acc: 1.0000 - val_loss: 7.4876 - val_acc: 1.0000\n",
            "Epoch 39/100\n",
            "27/35 [======================>.......] - ETA: 0s - loss: 6.3227 - acc: 1.0000\n",
            "Epoch 39: val_loss improved from 7.48760 to 7.39411, saving model to weights.hdf5\n",
            "35/35 [==============================] - 0s 4ms/step - loss: 6.1279 - acc: 1.0000 - val_loss: 7.3941 - val_acc: 1.0000\n",
            "Epoch 40/100\n",
            "24/35 [===================>..........] - ETA: 0s - loss: 6.0964 - acc: 1.0000\n",
            "Epoch 40: val_loss improved from 7.39411 to 7.37318, saving model to weights.hdf5\n",
            "35/35 [==============================] - 0s 4ms/step - loss: 6.1704 - acc: 1.0000 - val_loss: 7.3732 - val_acc: 1.0000\n",
            "Epoch 41/100\n",
            "20/35 [================>.............] - ETA: 0s - loss: 6.1588 - acc: 1.0000\n",
            "Epoch 41: val_loss did not improve from 7.37318\n",
            "35/35 [==============================] - 0s 4ms/step - loss: 6.1943 - acc: 1.0000 - val_loss: 7.4287 - val_acc: 1.0000\n",
            "Epoch 42/100\n",
            "28/35 [=======================>......] - ETA: 0s - loss: 6.3961 - acc: 1.0000\n",
            "Epoch 42: val_loss did not improve from 7.37318\n",
            "35/35 [==============================] - 0s 3ms/step - loss: 6.2783 - acc: 1.0000 - val_loss: 7.5347 - val_acc: 1.0000\n",
            "Epoch 43/100\n",
            "22/35 [=================>............] - ETA: 0s - loss: 6.2599 - acc: 1.0000\n",
            "Epoch 43: val_loss did not improve from 7.37318\n",
            "35/35 [==============================] - 0s 4ms/step - loss: 6.3053 - acc: 1.0000 - val_loss: 7.4616 - val_acc: 1.0000\n",
            "Epoch 44/100\n",
            "24/35 [===================>..........] - ETA: 0s - loss: 6.0915 - acc: 1.0000\n",
            "Epoch 44: val_loss did not improve from 7.37318\n",
            "35/35 [==============================] - 0s 3ms/step - loss: 6.2084 - acc: 1.0000 - val_loss: 7.4284 - val_acc: 1.0000\n",
            "Epoch 45/100\n",
            "28/35 [=======================>......] - ETA: 0s - loss: 6.1755 - acc: 1.0000\n",
            "Epoch 45: val_loss did not improve from 7.37318\n",
            "35/35 [==============================] - 0s 3ms/step - loss: 6.0888 - acc: 1.0000 - val_loss: 7.7394 - val_acc: 1.0000\n",
            "Epoch 46/100\n",
            "28/35 [=======================>......] - ETA: 0s - loss: 6.0744 - acc: 1.0000\n",
            "Epoch 46: val_loss did not improve from 7.37318\n",
            "35/35 [==============================] - 0s 3ms/step - loss: 6.1227 - acc: 1.0000 - val_loss: 7.4560 - val_acc: 1.0000\n",
            "Epoch 47/100\n",
            "28/35 [=======================>......] - ETA: 0s - loss: 5.9559 - acc: 1.0000\n",
            "Epoch 47: val_loss did not improve from 7.37318\n",
            "35/35 [==============================] - 0s 3ms/step - loss: 6.0788 - acc: 1.0000 - val_loss: 7.6101 - val_acc: 1.0000\n",
            "Epoch 48/100\n",
            "27/35 [======================>.......] - ETA: 0s - loss: 6.2867 - acc: 1.0000\n",
            "Epoch 48: val_loss did not improve from 7.37318\n",
            "35/35 [==============================] - 0s 3ms/step - loss: 6.2567 - acc: 1.0000 - val_loss: 8.0026 - val_acc: 1.0000\n",
            "Epoch 49/100\n",
            "20/35 [================>.............] - ETA: 0s - loss: 6.2971 - acc: 1.0000\n",
            "Epoch 49: val_loss improved from 7.37318 to 7.34736, saving model to weights.hdf5\n",
            "35/35 [==============================] - 0s 4ms/step - loss: 6.2387 - acc: 1.0000 - val_loss: 7.3474 - val_acc: 1.0000\n",
            "Epoch 50/100\n",
            "27/35 [======================>.......] - ETA: 0s - loss: 6.2306 - acc: 1.0000\n",
            "Epoch 50: val_loss did not improve from 7.34736\n",
            "35/35 [==============================] - 0s 3ms/step - loss: 6.2102 - acc: 1.0000 - val_loss: 8.5997 - val_acc: 1.0000\n",
            "Epoch 51/100\n",
            "25/35 [====================>.........] - ETA: 0s - loss: 6.2245 - acc: 1.0000\n",
            "Epoch 51: val_loss improved from 7.34736 to 7.34600, saving model to weights.hdf5\n",
            "35/35 [==============================] - 0s 4ms/step - loss: 6.1763 - acc: 1.0000 - val_loss: 7.3460 - val_acc: 1.0000\n",
            "Epoch 52/100\n",
            "25/35 [====================>.........] - ETA: 0s - loss: 6.0364 - acc: 1.0000\n",
            "Epoch 52: val_loss improved from 7.34600 to 7.27915, saving model to weights.hdf5\n",
            "35/35 [==============================] - 0s 4ms/step - loss: 6.0111 - acc: 1.0000 - val_loss: 7.2792 - val_acc: 1.0000\n",
            "Epoch 53/100\n",
            "26/35 [=====================>........] - ETA: 0s - loss: 6.1533 - acc: 1.0000\n",
            "Epoch 53: val_loss did not improve from 7.27915\n",
            "35/35 [==============================] - 0s 3ms/step - loss: 6.0642 - acc: 1.0000 - val_loss: 7.4603 - val_acc: 1.0000\n",
            "Epoch 54/100\n",
            "22/35 [=================>............] - ETA: 0s - loss: 5.9523 - acc: 1.0000\n",
            "Epoch 54: val_loss did not improve from 7.27915\n",
            "35/35 [==============================] - 0s 3ms/step - loss: 6.1104 - acc: 1.0000 - val_loss: 7.5902 - val_acc: 1.0000\n",
            "Epoch 55/100\n",
            "24/35 [===================>..........] - ETA: 0s - loss: 6.0231 - acc: 1.0000\n",
            "Epoch 55: val_loss did not improve from 7.27915\n",
            "35/35 [==============================] - 0s 4ms/step - loss: 6.1879 - acc: 1.0000 - val_loss: 7.2946 - val_acc: 1.0000\n",
            "Epoch 56/100\n",
            "25/35 [====================>.........] - ETA: 0s - loss: 6.1563 - acc: 1.0000\n",
            "Epoch 56: val_loss did not improve from 7.27915\n",
            "35/35 [==============================] - 0s 3ms/step - loss: 6.3722 - acc: 1.0000 - val_loss: 7.3558 - val_acc: 1.0000\n",
            "Epoch 57/100\n",
            "24/35 [===================>..........] - ETA: 0s - loss: 6.4171 - acc: 1.0000\n",
            "Epoch 57: val_loss did not improve from 7.27915\n",
            "35/35 [==============================] - 0s 3ms/step - loss: 6.4021 - acc: 1.0000 - val_loss: 9.4535 - val_acc: 1.0000\n",
            "Epoch 58/100\n",
            "19/35 [===============>..............] - ETA: 0s - loss: 6.7399 - acc: 1.0000\n",
            "Epoch 58: val_loss did not improve from 7.27915\n",
            "35/35 [==============================] - 0s 4ms/step - loss: 6.4949 - acc: 1.0000 - val_loss: 7.3559 - val_acc: 1.0000\n",
            "Epoch 59/100\n",
            "26/35 [=====================>........] - ETA: 0s - loss: 6.2030 - acc: 1.0000\n",
            "Epoch 59: val_loss did not improve from 7.27915\n",
            "35/35 [==============================] - 0s 3ms/step - loss: 6.1780 - acc: 1.0000 - val_loss: 7.5682 - val_acc: 1.0000\n",
            "Epoch 60/100\n",
            "26/35 [=====================>........] - ETA: 0s - loss: 6.1156 - acc: 1.0000\n",
            "Epoch 60: val_loss did not improve from 7.27915\n",
            "35/35 [==============================] - 0s 3ms/step - loss: 6.1157 - acc: 1.0000 - val_loss: 7.7871 - val_acc: 1.0000\n",
            "Epoch 61/100\n",
            "21/35 [=================>............] - ETA: 0s - loss: 6.1245 - acc: 1.0000\n",
            "Epoch 61: val_loss did not improve from 7.27915\n",
            "35/35 [==============================] - 0s 4ms/step - loss: 6.2104 - acc: 1.0000 - val_loss: 7.9264 - val_acc: 1.0000\n",
            "Epoch 62/100\n",
            "19/35 [===============>..............] - ETA: 0s - loss: 5.8533 - acc: 1.0000\n",
            "Epoch 62: val_loss did not improve from 7.27915\n",
            "35/35 [==============================] - 0s 3ms/step - loss: 6.1078 - acc: 1.0000 - val_loss: 7.3679 - val_acc: 1.0000\n",
            "Epoch 62: early stopping\n"
          ]
        },
        {
          "output_type": "execute_result",
          "data": {
            "text/plain": [
              "<keras.callbacks.History at 0x7f32d76a6750>"
            ]
          },
          "metadata": {},
          "execution_count": 15
        }
      ]
    },
    {
      "cell_type": "markdown",
      "source": [
        "Now let's see the prediction on X_test"
      ],
      "metadata": {
        "id": "ZYI8WsBvrWkv"
      }
    },
    {
      "cell_type": "code",
      "source": [
        "pred = model.predict(X_test)"
      ],
      "metadata": {
        "colab": {
          "base_uri": "https://localhost:8080/"
        },
        "id": "_m2270WIraBG",
        "outputId": "e835470b-9468-4a49-dd3d-70fe2271842a"
      },
      "execution_count": null,
      "outputs": [
        {
          "output_type": "stream",
          "name": "stdout",
          "text": [
            "11/11 [==============================] - 0s 2ms/step\n"
          ]
        }
      ]
    },
    {
      "cell_type": "markdown",
      "source": [
        "We have to change the Tmin and Tmax values into an Avg value. The daily average temperature is the mean of Tmin and Tmax."
      ],
      "metadata": {
        "id": "ZfJH76F0r82x"
      }
    },
    {
      "cell_type": "code",
      "source": [
        "pred_avg = np.array([np.mean(e) for e in pred])\n",
        "actual_avg = np.array([np.mean(e) for e in y_test])"
      ],
      "metadata": {
        "id": "NIflVN_4sGCS"
      },
      "execution_count": null,
      "outputs": []
    },
    {
      "cell_type": "code",
      "source": [
        "test_err = mean_squared_error(actual_avg,pred_avg) #evaluating our model\n",
        "test_err"
      ],
      "metadata": {
        "colab": {
          "base_uri": "https://localhost:8080/"
        },
        "id": "r8EXRUY-rcr3",
        "outputId": "8e865536-74c2-4ac3-ae8e-d6304b38ff8e"
      },
      "execution_count": null,
      "outputs": [
        {
          "output_type": "execute_result",
          "data": {
            "text/plain": [
              "3.993039660159962"
            ]
          },
          "metadata": {},
          "execution_count": 18
        }
      ]
    },
    {
      "cell_type": "markdown",
      "source": [
        "This mse value shows, that the model is capable of predicting the next day's avg temperature with only a little mistake."
      ],
      "metadata": {
        "id": "WbJdeDTQs_OK"
      }
    },
    {
      "cell_type": "markdown",
      "source": [
        "\n",
        "\n",
        "---\n",
        "\n",
        "\n",
        "\n"
      ],
      "metadata": {
        "id": "7agqIrlytyjB"
      }
    },
    {
      "cell_type": "markdown",
      "source": [
        "But in the exercise, the model has to predict not just the following day, but multiple days ahead. To do this I am going to use the following method:\n",
        "<p>I am going to predict the following day's temperature and then add it to the known values of the model. Then repeat this.\n",
        "<p>For this I'll need a fully ordered set of the days and temperatures, so I'll use the original X and y variables, and not X_train and y_train that only contain 70% of the days in our database. But the model stays the same."
      ],
      "metadata": {
        "id": "MFK-yIsMtQt8"
      }
    },
    {
      "cell_type": "markdown",
      "source": [
        "The following function creates a continously updating list of the temperatures of the last 12 days (the last_12_days variable), calculates a prediction of the next day, appends it to this list, and deletes the first row of last_12_days. It does this until it reaches the day we're looking for."
      ],
      "metadata": {
        "id": "KAVZT5kruMP0"
      }
    },
    {
      "cell_type": "code",
      "source": [
        "today = list(weather['date'])[-1]\n",
        "\n",
        "def predict_temperatures(days_from_now):\n",
        "    predictions = [] \n",
        "    day_needed = today + timedelta(days=days_from_now)\n",
        "    last_12_days = X[-12:]\n",
        "    for i in range(days_from_now):\n",
        "        next_pred = model.predict(last_12_days,verbose=0)[-1]\n",
        "        predictions.append(next_pred)\n",
        "        last_12_days = last_12_days[1:]\n",
        "        last_12_days = np.array(list(last_12_days) + list([np.append(np.append(last_12_days[-1][3:],[day_needed.month]),next_pred)]))\n",
        "    return predictions"
      ],
      "metadata": {
        "id": "zAOiUewtrwke"
      },
      "execution_count": null,
      "outputs": []
    },
    {
      "cell_type": "markdown",
      "source": [
        "Here is an example: These are the predicted temperatures of the following 10 days:"
      ],
      "metadata": {
        "id": "ZEyEwycEusK4"
      }
    },
    {
      "cell_type": "code",
      "source": [
        "def spaces(l):\n",
        "    return ''.join([' ' for k in range(l)])\n",
        "\n",
        "next10_pred = predict_temperatures(10)\n",
        "print(\"    Day   | Predicted minimum temperature | Predicted maximum temperature\")\n",
        "print(\"-------------------------------------------------------------------------\")\n",
        "for r in range(len(next10_pred)):\n",
        "    day = today + timedelta(days=r+1)\n",
        "    m = calendar.month_abbr[day.month]\n",
        "    d = day.day\n",
        "    mint = next10_pred[r][0]\n",
        "    maxt = next10_pred[r][1]\n",
        "    print(\" \", m, d, spaces(5-len(str(m))-len(str(d))), \"|\", spaces(9), mint, spaces(18-len(str(mint))), \"|\", spaces(9), maxt)"
      ],
      "metadata": {
        "colab": {
          "base_uri": "https://localhost:8080/"
        },
        "id": "3txL_dtwuio-",
        "outputId": "72964ece-e7ee-422a-de88-e7ed870d1d69"
      },
      "execution_count": null,
      "outputs": [
        {
          "output_type": "stream",
          "name": "stdout",
          "text": [
            "    Day   | Predicted minimum temperature | Predicted maximum temperature\n",
            "-------------------------------------------------------------------------\n",
            "  Nov 15  |           8.521012            |           12.862491\n",
            "  Nov 16  |           8.447227            |           12.798655\n",
            "  Nov 17  |           8.313172            |           12.737107\n",
            "  Nov 18  |           8.059712            |           12.381327\n",
            "  Nov 19  |           7.869197            |           12.107246\n",
            "  Nov 20  |           7.6978436           |           11.913091\n",
            "  Nov 21  |           7.5161695           |           11.718425\n",
            "  Nov 22  |           7.322652            |           11.477344\n",
            "  Nov 23  |           7.1218276           |           11.226636\n",
            "  Nov 24  |           6.9171867           |           10.97353\n"
          ]
        }
      ]
    },
    {
      "cell_type": "markdown",
      "source": [
        "The following function predicts for a specific day:"
      ],
      "metadata": {
        "id": "jnq_iXjVximH"
      }
    },
    {
      "cell_type": "code",
      "source": [
        "def predict_faraway_day_temperature(year, month, day):\n",
        "    d = date(year, month, day)\n",
        "    today = list(weather['date'])[-1]\n",
        "    delta = (d - date(today.year, today.month, today.day)).days\n",
        "    return predict_temperatures(delta)[-1]"
      ],
      "metadata": {
        "id": "cW9tnbJGuvIN"
      },
      "execution_count": null,
      "outputs": []
    },
    {
      "cell_type": "markdown",
      "source": [
        "Here are the actual predictions the exercise asked for:"
      ],
      "metadata": {
        "id": "8tqPAgb6xqfa"
      }
    },
    {
      "cell_type": "code",
      "source": [
        "print(\"Predicted average temperatures in Budapest (°C):\")\n",
        "print(\"November 16th:\", np.mean(predict_faraway_day_temperature(2022,11,16)))\n",
        "print(\"November 22nd:\", np.mean(predict_faraway_day_temperature(2022,11,22)))\n",
        "print(\"December 6th:\", np.mean(predict_faraway_day_temperature(2022,12,6)))"
      ],
      "metadata": {
        "colab": {
          "base_uri": "https://localhost:8080/"
        },
        "id": "8q-TqNoJxmme",
        "outputId": "e665188d-1197-4838-9fb5-231d4a0d4531"
      },
      "execution_count": null,
      "outputs": [
        {
          "output_type": "stream",
          "name": "stdout",
          "text": [
            "Predicted average temperatures in Budapest (°C):\n",
            "November 16th: 10.62294\n",
            "November 22nd: 9.399998\n",
            "December 6th: 3.672347\n"
          ]
        }
      ]
    },
    {
      "cell_type": "code",
      "source": [],
      "metadata": {
        "id": "3U0IhpyCx9dJ"
      },
      "execution_count": null,
      "outputs": []
    }
  ]
}